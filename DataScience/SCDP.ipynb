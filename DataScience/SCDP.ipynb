{
 "cells": [
  {
   "cell_type": "code",
   "execution_count": 2,
   "metadata": {},
   "outputs": [],
   "source": [
    "import pandas as pd\n",
    "# from datetime import date\n"
   ]
  },
  {
   "cell_type": "code",
   "execution_count": 3,
   "metadata": {},
   "outputs": [],
   "source": [
    "scdp = pd.read_excel('Datasets/SCDP.xlsx')"
   ]
  },
  {
   "cell_type": "code",
   "execution_count": 4,
   "metadata": {},
   "outputs": [
    {
     "data": {
      "text/plain": [
       "pandas.core.frame.DataFrame"
      ]
     },
     "execution_count": 4,
     "metadata": {},
     "output_type": "execute_result"
    }
   ],
   "source": [
    "type(scdp)"
   ]
  },
  {
   "cell_type": "code",
   "execution_count": 14,
   "metadata": {},
   "outputs": [
    {
     "data": {
      "text/plain": [
       "0       https://www.voegol.com.br/pt/informacoes/tari...\n",
       "1       https://www.voeazul.com.br/para-sua-viagem/in...\n",
       "2       https://www.latam.com/pt_br/planeje-e-compre/...\n",
       "3       https://www.voeazul.com.br/para-sua-viagem/in...\n",
       "4       https://www.latam.com/pt_br/planeje-e-compre/...\n",
       "                             ...                        \n",
       "903     https://www.latam.com/pt_br/planeje-e-compre/...\n",
       "904     https://www.voeazul.com.br/para-sua-viagem/in...\n",
       "905     https://www.latam.com/pt_br/planeje-e-compre/...\n",
       "906     https://www.voegol.com.br/pt/informacoes/tari...\n",
       "907     https://www.latam.com/pt_br/planeje-e-compre/...\n",
       "Name: regra_tarifaria, Length: 908, dtype: object"
      ]
     },
     "execution_count": 14,
     "metadata": {},
     "output_type": "execute_result"
    }
   ],
   "source": [
    "# Remover espaços nos textos das colunas\n",
    "scdp.columns = scdp.columns.str.replace(' ', '')\n",
    "scdp['regra_tarifaria']"
   ]
  },
  {
   "cell_type": "code",
   "execution_count": null,
   "metadata": {},
   "outputs": [],
   "source": []
  }
 ],
 "metadata": {
  "interpreter": {
   "hash": "624741679a3ae5d99cecf49b8df5d516a7a937e6e7328e129d1fa121c8592e26"
  },
  "kernelspec": {
   "display_name": "Python 3.10.5 64-bit (windows store)",
   "language": "python",
   "name": "python3"
  },
  "language_info": {
   "codemirror_mode": {
    "name": "ipython",
    "version": 3
   },
   "file_extension": ".py",
   "mimetype": "text/x-python",
   "name": "python",
   "nbconvert_exporter": "python",
   "pygments_lexer": "ipython3",
   "version": "3.10.5"
  },
  "orig_nbformat": 4
 },
 "nbformat": 4,
 "nbformat_minor": 2
}
