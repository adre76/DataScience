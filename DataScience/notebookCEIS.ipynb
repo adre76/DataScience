{
 "cells": [
  {
   "cell_type": "code",
   "execution_count": null,
   "metadata": {},
   "outputs": [],
   "source": [
    "# Importando frameworks e bibliotecas\n",
    "import pandas as pd\n",
    "from datetime import datetime\n",
    "\n",
    "# Padronizando exibição do float sem decimais\n",
    "pd.options.display.float_format = '{:,.0f}'.format"
   ]
  },
  {
   "cell_type": "code",
   "execution_count": null,
   "metadata": {},
   "outputs": [],
   "source": [
    "# Carregando os datasets no Pandas\n",
    "ceis = pd.read_csv(\"Datasets/CEIS.csv\", sep=\";\", engine=\"python\", encoding=\"ISO-8859-1\", error_bad_lines=False)\n",
    "estados = pd.read_csv(\"Datasets/IBGE_Estados.csv\", sep=\";\", engine=\"python\", encoding=\"ISO-8859-1\", error_bad_lines=False)"
   ]
  },
  {
   "cell_type": "code",
   "execution_count": null,
   "metadata": {},
   "outputs": [],
   "source": [
    "# Transformando colunas de data em formato datetime\n",
    "ceis['DATA INICIO SANCAO'] = pd.to_datetime(ceis['DATA INICIO SANCAO'])\n",
    "ceis['DATA FINAL SANCAO'] = pd.to_datetime(ceis['DATA FINAL SANCAO'])\n",
    "ceis['DATA ORIGEM INFORMACOES'] = pd.to_datetime(ceis['DATA ORIGEM INFORMACOES'])\n",
    "ceis['DATA PUBLICACAO'] = pd.to_datetime(ceis['DATA PUBLICACAO'])\n",
    "ceis['DATA DO TRANSITO EM JULGADO'] = pd.to_datetime(ceis['DATA DO TRANSITO EM JULGADO'])"
   ]
  },
  {
   "cell_type": "markdown",
   "metadata": {},
   "source": [
    "### Quantitativo de empresas inidôneas e suspeitas por Estado"
   ]
  },
  {
   "cell_type": "code",
   "execution_count": null,
   "metadata": {},
   "outputs": [],
   "source": [
    "# Criando o gráfico sumarizador por Estado\n",
    "ceis['UF ORGAO SANCIONADOR'].value_counts().plot(kind='bar')"
   ]
  },
  {
   "cell_type": "markdown",
   "metadata": {},
   "source": [
    "### Duração média de sanções executadas por Estado"
   ]
  },
  {
   "cell_type": "code",
   "execution_count": null,
   "metadata": {},
   "outputs": [],
   "source": [
    "# Colocando a data atual no fim da sanção\n",
    "ceis.loc[ceis['DATA FINAL SANCAO'].isnull(), 'DATA FINAL SANCAO'] = datetime.today()\n",
    "\n",
    "# Criando delta, convertendo para inteiro e limpando possíveis valores errados\n",
    "ceis['DURACAO SANCAO'] = (ceis['DATA FINAL SANCAO'] - ceis['DATA INICIO SANCAO']).dt.days\n",
    "ceis['DURACAO SANCAO'] = ceis['DURACAO SANCAO'].astype('Int64')\n",
    "ceis = ceis[ceis['DURACAO SANCAO'] >= 0]\n",
    "\n",
    "# Gerando Dataset com média, min e max de cada Estado e criando o gráfico\n",
    "media_regiao = pd.DataFrame(columns=['media', 'min', 'max'])\n",
    "media_regiao['media'] = ceis.groupby('UF ORGAO SANCIONADOR').agg({'DURACAO SANCAO': ['mean']})\n",
    "media_regiao['min'] = ceis.groupby('UF ORGAO SANCIONADOR').agg({'DURACAO SANCAO': ['min']})\n",
    "media_regiao['max'] = ceis.groupby('UF ORGAO SANCIONADOR').agg({'DURACAO SANCAO': ['max']})\n",
    "graf = media_regiao.plot.barh(title='Duração de sanções por Estado (Dias)') #(title='Duração de sanções por Estado', kind='barh', ylabel='Dias')\n",
    "for valor in graf.containers:\n",
    "    graf.bar_label(valor)\n",
    "#media_regiao.head(30)\n",
    "#media_regiao['media'] = media_regiao['media'].astype('Int64')\n",
    "#ceis[['DATA INICIO SANCAO', 'DATA FINAL SANCAO', 'DURACAO SANCAO']].head(50)\n",
    "#ufs = ceis['UF ORGAO SANCIONADOR'].unique().tolist()\n"
   ]
  },
  {
   "cell_type": "markdown",
   "metadata": {},
   "source": [
    "### Porcentagem de empresas inidôneas por habitante no Estado"
   ]
  },
  {
   "cell_type": "code",
   "execution_count": null,
   "metadata": {},
   "outputs": [],
   "source": [
    "#Em desenvolvimento\n",
    "porc_estado = pd.DataFrame(columns=['UF', 'QTD', 'POP'])\n"
   ]
  }
 ],
 "metadata": {
  "interpreter": {
   "hash": "624741679a3ae5d99cecf49b8df5d516a7a937e6e7328e129d1fa121c8592e26"
  },
  "kernelspec": {
   "display_name": "Python 3.10.4 64-bit (windows store)",
   "language": "python",
   "name": "python3"
  },
  "language_info": {
   "codemirror_mode": {
    "name": "ipython",
    "version": 3
   },
   "file_extension": ".py",
   "mimetype": "text/x-python",
   "name": "python",
   "nbconvert_exporter": "python",
   "pygments_lexer": "ipython3",
   "version": "3.10.5"
  },
  "orig_nbformat": 4
 },
 "nbformat": 4,
 "nbformat_minor": 2
}
